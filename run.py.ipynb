{
 "cells": [
  {
   "cell_type": "code",
   "execution_count": 1,
   "metadata": {},
   "outputs": [],
   "source": [
    "import torch\n",
    "from torch.utils.data import TensorDataset\n",
    "from torch.utils.data import DataLoader\n",
    "import torch.optim as optim\n",
    "\n",
    "from models import *\n",
    "from data_processor import text_processor"
   ]
  },
  {
   "cell_type": "code",
   "execution_count": 2,
   "metadata": {},
   "outputs": [
    {
     "name": "stderr",
     "output_type": "stream",
     "text": [
      "100%|██████████| 50000/50000 [07:17<00:00, 114.40it/s]\n"
     ]
    }
   ],
   "source": [
    "T = text_processor()\n",
    "T.prepare_data(\"IMDB Dataset.csv\")"
   ]
  },
  {
   "cell_type": "code",
   "execution_count": 12,
   "metadata": {},
   "outputs": [],
   "source": [
    "dataset_size = len(T.review_ids)\n",
    "train_size = int(dataset_size*0.8)\n",
    "dev_size = dataset_size - train_size\n",
    "\n",
    "training_reviews = torch.LongTensor(T.review_ids[:train_size])\n",
    "training_labels = torch.LongTensor(T.labels[:train_size])\n",
    "training_masks = torch.FloatTensor(T.masks[:train_size])\n",
    "\n",
    "train_data_set = TensorDataset(training_reviews, training_labels, training_masks)\n",
    "train_data_loader = DataLoader(train_data_set, batch_size=256, shuffle=True)\n",
    "\n",
    "dev_reviews = torch.LongTensor(T.review_ids[train_size:])\n",
    "dev_labels = torch.LongTensor(T.labels[train_size:])\n",
    "dev_masks = torch.FloatTensor(T.masks[train_size:])\n",
    "\n",
    "dev_data_set = TensorDataset(dev_reviews, dev_labels, dev_masks)\n",
    "dev_data_loader = DataLoader(dev_data_set, batch_size=256, shuffle=False)"
   ]
  },
  {
   "cell_type": "code",
   "execution_count": 17,
   "metadata": {},
   "outputs": [],
   "source": [
    "class Classifier_2(nn.Module):\n",
    "    def __init__(self, vocab_size, word_dimension):\n",
    "        super(Classifier_2, self).__init__()\n",
    "        self.embedding = torch.nn.Embedding(vocab_size, word_dimension)\n",
    "        self.attention = SelfAttention(word_dimension)\n",
    "        self.summarisation = Querry_Attention(word_dimension)\n",
    "        self.fc1 = nn.Linear(word_dimension, 2)\n",
    "\n",
    "    def forward(self, input_batch, mask):\n",
    "        embeddings = self.embedding(input_batch)\n",
    "        sentence_vectors = self.summarisation(embeddings, mask)\n",
    "        output = self.fc1(sentence_vectors)\n",
    "        return output\n"
   ]
  },
  {
   "cell_type": "code",
   "execution_count": 21,
   "metadata": {
    "scrolled": true
   },
   "outputs": [],
   "source": [
    "model = Classifier_2(len(T.word_dict),100)\n",
    "\n",
    "optimizer = optim.SGD(model.parameters(), lr=0.001, momentum=0.8)\n",
    "loss = nn.CrossEntropyLoss()"
   ]
  },
  {
   "cell_type": "code",
   "execution_count": 22,
   "metadata": {},
   "outputs": [
    {
     "name": "stdout",
     "output_type": "stream",
     "text": [
      "0: 0.00275, 0.50414, 0.00271, 0.52853\n",
      "1: 0.00269, 0.54746, 0.00266, 0.56132\n",
      "2: 0.00261, 0.57981, 0.00254, 0.59943\n",
      "3: 0.00254, 0.5968, 0.00251, 0.60891\n",
      "4: 0.00252, 0.60377, 0.0025, 0.61141\n",
      "5: 0.00251, 0.60554, 0.00249, 0.6137\n",
      "6: 0.0025, 0.60935, 0.00249, 0.61446\n",
      "7: 0.00249, 0.61463, 0.00248, 0.61827\n",
      "8: 0.00248, 0.62081, 0.00246, 0.6222\n",
      "9: 0.00246, 0.6277, 0.00245, 0.62677\n",
      "10: 0.00244, 0.63149, 0.00244, 0.6345\n",
      "11: 0.00243, 0.63718, 0.00242, 0.63951\n",
      "12: 0.00242, 0.64006, 0.00242, 0.64082\n",
      "13: 0.00241, 0.643, 0.00241, 0.64234\n",
      "14: 0.00241, 0.64556, 0.0024, 0.64648\n",
      "15: 0.0024, 0.64954, 0.0024, 0.64844\n",
      "16: 0.0024, 0.65038, 0.00239, 0.64975\n",
      "17: 0.00239, 0.65202, 0.00239, 0.65269\n",
      "18: 0.00239, 0.65327, 0.00239, 0.65356\n",
      "19: 0.00239, 0.65319, 0.00238, 0.65117\n"
     ]
    }
   ],
   "source": [
    "for epoch in range(20):\n",
    "    epoch_loss = 0\n",
    "    train_accuracy = [0,0]\n",
    "    i = 0\n",
    "    for review, labels, mask in train_data_loader:\n",
    "        y_pred = model(review, mask)\n",
    "        predictions = torch.argmax(y_pred, dim=1)\n",
    "        output = loss(y_pred, labels)\n",
    "        optimizer.zero_grad()\n",
    "        output.backward()\n",
    "        optimizer.step()\n",
    "        epoch_loss += output\n",
    "        train_accuracy = [train_accuracy[0] + (predictions == labels).sum(), train_accuracy[1] + labels.shape[0]]\n",
    "        \n",
    "        #if i%50 == 0:\n",
    "        #    print(f\"{i}: {round(float(output),5)}, {round(int(train_accuracy[0])/int(train_accuracy[1]),5)}\")\n",
    "        #\n",
    "        #i+=1\n",
    "        \n",
    "    dev_epoch_loss = 0\n",
    "    dev_accuracy = [0,0]\n",
    "\n",
    "    for review_d, labels_d, mask_d in dev_data_loader:\n",
    "        y_pred_d = model(review_d, mask_d)\n",
    "        predictions_d = torch.argmax(y_pred_d, dim=1)\n",
    "        output_d = loss(y_pred_d, labels_d)\n",
    "        dev_epoch_loss += output_d\n",
    "        dev_accuracy = [dev_accuracy[0] + (predictions_d == labels_d).sum(), dev_accuracy[1] + labels_d.shape[0]]\n",
    "    \n",
    "    print(f\"{epoch}: {round(float(epoch_loss/train_size),5)}, {round(int(train_accuracy[0])/int(train_accuracy[1]),5)}, {round(float(dev_epoch_loss/dev_size),5)}, {round(int(dev_accuracy[0])/int(dev_accuracy[1]),5)}\")"
   ]
  },
  {
   "cell_type": "code",
   "execution_count": null,
   "metadata": {},
   "outputs": [],
   "source": []
  }
 ],
 "metadata": {
  "kernelspec": {
   "display_name": "Python 3",
   "language": "python",
   "name": "python3"
  },
  "language_info": {
   "codemirror_mode": {
    "name": "ipython",
    "version": 3
   },
   "file_extension": ".py",
   "mimetype": "text/x-python",
   "name": "python",
   "nbconvert_exporter": "python",
   "pygments_lexer": "ipython3",
   "version": "3.8.3"
  }
 },
 "nbformat": 4,
 "nbformat_minor": 4
}
